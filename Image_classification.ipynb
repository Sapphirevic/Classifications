{
  "cells": [
    {
      "cell_type": "markdown",
      "metadata": {
        "id": "view-in-github",
        "colab_type": "text"
      },
      "source": [
        "<a href=\"https://colab.research.google.com/github/Sapphirevic/Classifications/blob/main/Image_classification.ipynb\" target=\"_parent\"><img src=\"https://colab.research.google.com/assets/colab-badge.svg\" alt=\"Open In Colab\"/></a>"
      ]
    },
    {
      "cell_type": "markdown",
      "metadata": {
        "id": "69lK7oQiXO_x"
      },
      "source": [
        "\n",
        "## Image classification"
      ]
    },
    {
      "cell_type": "markdown",
      "metadata": {
        "id": "W6NM0pH5XO_y"
      },
      "source": [
        "## Imports\n"
      ]
    },
    {
      "cell_type": "code",
      "execution_count": 1,
      "metadata": {
        "id": "Ssh-rIvMXO_z"
      },
      "outputs": [],
      "source": [
        "import numpy as np\n",
        "import gzip # This is used in extracting the images\n",
        "\n",
        "import matplotlib.pyplot as plt # In order to plot the images to see what we are dealing with\n",
        "from sklearn.ensemble import RandomForestClassifier # You'll be using Random Forest to classify the images\n",
        "from sklearn.metrics import accuracy_score # Sklearn's way of measuring accuracy\n",
        "from sklearn.metrics import classification_report"
      ]
    },
    {
      "cell_type": "markdown",
      "metadata": {
        "id": "d7C1ZsWeXO_0"
      },
      "source": [
        "\n",
        "# The data"
      ]
    },
    {
      "cell_type": "code",
      "execution_count": 2,
      "metadata": {
        "id": "Q4S9GrfUXO_0"
      },
      "outputs": [],
      "source": [
        "def extract_data(filename, num_images, IMAGE_WIDTH):\n",
        "    \"\"\"Extract the images into a 4D tensor [image index, y, x, channels].\"\"\"\n",
        "    with gzip.open(filename) as bytestream:\n",
        "        bytestream.read(16)\n",
        "        buf = bytestream.read(IMAGE_WIDTH * IMAGE_WIDTH * num_images)\n",
        "        data = np.frombuffer(buf, dtype=np.uint8).astype(np.float32)\n",
        "        data = data.reshape(num_images, IMAGE_WIDTH*IMAGE_WIDTH)\n",
        "        return data\n",
        "\n",
        "def extract_labels(filename, num_images):\n",
        "    \"\"\"Extract the labels into a vector of int64 label IDs.\"\"\"\n",
        "    with gzip.open(filename) as bytestream:\n",
        "        bytestream.read(8)\n",
        "        buf = bytestream.read(1 * num_images)\n",
        "        labels = np.frombuffer(buf, dtype=np.uint8).astype(np.int64)\n",
        "    return labels"
      ]
    },
    {
      "cell_type": "markdown",
      "metadata": {
        "id": "fpz3I7FAXO_1"
      },
      "source": [
        "## Extracting the data\n"
      ]
    },
    {
      "cell_type": "code",
      "execution_count": 18,
      "metadata": {
        "id": "PZaDabkBXO_1"
      },
      "outputs": [],
      "source": [
        "def get_data(num_train_images, num_test_images):\n",
        "    IMAGE_WIDTH = 28  # Size of each image (28x28)\n",
        "\n",
        "    # File paths for MNIST dataset\n",
        "    train_images_path = 'train-images-idx3-ubyte.gz'\n",
        "    train_labels_path = 'train-labels-idx1-ubyte.gz'\n",
        "    test_images_path = 't10k-images-idx3-ubyte.gz'\n",
        "    test_labels_path = 't10k-labels-idx1-ubyte.gz'\n",
        "\n",
        "    # Extract training data\n",
        "    X_train = extract_data(train_images_path, num_train_images, IMAGE_WIDTH)\n",
        "    y_train = extract_labels(train_labels_path, num_train_images)\n",
        "\n",
        "    # Extract testing data\n",
        "    X_test = extract_data(test_images_path, num_test_images, IMAGE_WIDTH)\n",
        "    y_test = extract_labels(test_labels_path, num_test_images)\n",
        "\n",
        "    # Normalize image data to range [0, 1]\n",
        "    X_train /= 255.0\n",
        "    X_test /= 255.0\n",
        "\n",
        "    return (X_train, y_train), (X_test, y_test)\n",
        "\n",
        "# Extract 5000 train images and 1000 test images\n",
        "(X_train, y_train), (X_test, y_test) = get_data(5000, 1000)"
      ]
    },
    {
      "cell_type": "code",
      "source": [
        "print(y_test[50])\n"
      ],
      "metadata": {
        "colab": {
          "base_uri": "https://localhost:8080/"
        },
        "id": "qZqZJwjydK6c",
        "outputId": "8666d035-df2e-4ea3-eb7b-9dd162daaf98"
      },
      "execution_count": 20,
      "outputs": [
        {
          "output_type": "stream",
          "name": "stdout",
          "text": [
            "6\n"
          ]
        }
      ]
    },
    {
      "cell_type": "markdown",
      "metadata": {
        "id": "4LE9EdQvXO_1"
      },
      "source": [
        "## Plotting the data"
      ]
    },
    {
      "cell_type": "code",
      "execution_count": 9,
      "metadata": {
        "colab": {
          "base_uri": "https://localhost:8080/",
          "height": 448
        },
        "id": "-N0ySYT2XO_2",
        "outputId": "5f014c69-4edc-43e2-c7c8-c0c3aa6a863f"
      },
      "outputs": [
        {
          "output_type": "stream",
          "name": "stdout",
          "text": [
            "Label:  1\n"
          ]
        },
        {
          "output_type": "display_data",
          "data": {
            "text/plain": [
              "<Figure size 640x480 with 1 Axes>"
            ],
            "image/png": "[encoded data removed]"
          },
          "metadata": {}
        }
      ],
      "source": [
        "image_index = 8 ## Change me to view different images\n",
        "\n",
        "print(\"Label: \", y_train[image_index])\n",
        "reshaped_image = X_train[image_index].reshape((28, 28))\n",
        "\n",
        "plt.imshow(reshaped_image, cmap='gray')\n",
        "plt.show()"
      ]
    },
    {
      "cell_type": "markdown",
      "metadata": {
        "id": "Ur5z0A3cXO_2"
      },
      "source": [
        "## Training the model"
      ]
    },
    {
      "cell_type": "code",
      "execution_count": 10,
      "metadata": {
        "colab": {
          "base_uri": "https://localhost:8080/"
        },
        "id": "WxCsYIt0XO_2",
        "outputId": "8a3cdda0-dfc1-4079-e5e0-e78031aeedc4"
      },
      "outputs": [
        {
          "output_type": "stream",
          "name": "stdout",
          "text": [
            "Model trained successfully.\n"
          ]
        }
      ],
      "source": [
        "def train_model(X_train, y_train):\n",
        "    \"\"\"\n",
        "    Trains a RandomForestClassifier on the given data.\n",
        "\n",
        "    Parameters:\n",
        "        X_train (numpy array): Training data (features).\n",
        "        y_train (numpy array): Training labels.\n",
        "\n",
        "    Returns:\n",
        "        model: Trained RandomForestClassifier model.\n",
        "    \"\"\"\n",
        "    # Create the RandomForestClassifier with specified parameters\n",
        "    model = RandomForestClassifier(n_estimators=20, random_state=42)\n",
        "\n",
        "    # Fit the model to the training data\n",
        "    model.fit(X_train, y_train)\n",
        "\n",
        "    return model\n",
        "\n",
        "# Train the model using the data we previously extracted\n",
        "model = train_model(X_train, y_train)\n",
        "\n",
        "# Print a confirmation message\n",
        "print(\"Model trained successfully.\")"
      ]
    },
    {
      "cell_type": "code",
      "execution_count": 11,
      "metadata": {
        "id": "IotTIXYjXO_2"
      },
      "outputs": [],
      "source": [
        "clf = train_model(X_train, y_train)"
      ]
    },
    {
      "cell_type": "markdown",
      "metadata": {
        "id": "FkFTSDhCXO_2"
      },
      "source": [
        "## Testing the model\n"
      ]
    },
    {
      "cell_type": "code",
      "execution_count": 13,
      "metadata": {
        "id": "nQyasmgJXO_3"
      },
      "outputs": [],
      "source": [
        "def calculate_accuracy(clf, X_test, y_test):\n",
        "    \"\"\"\n",
        "    Calculates the accuracy of the trained model on the test data.\n",
        "\n",
        "    Parameters:\n",
        "        clf: Trained RandomForestClassifier model.\n",
        "        X_test (numpy array): Test data (features).\n",
        "        y_test (numpy array): Test labels.\n",
        "\n",
        "    Returns:\n",
        "        float: Accuracy of the model on the test set (value between 0 and 1).\n",
        "    \"\"\"\n",
        "    # Use the model's score method to calculate accuracy\n",
        "    accuracy = clf.score(X_test, y_test)\n",
        "    return accuracy\n",
        "\n",
        "# Calculate and print the accuracy of the trained model\n",
        "#accuracy = calculate_accuracy(clf, X_test, y_test)\n",
        "#print(f\"Model Accuracy on Test Set: {accuracy:.2f}\")"
      ]
    },
    {
      "cell_type": "code",
      "execution_count": 14,
      "metadata": {
        "colab": {
          "base_uri": "https://localhost:8080/"
        },
        "id": "P_ArTFk7XO_3",
        "outputId": "67949ec2-a3fc-437c-8dfa-c10015511fe0"
      },
      "outputs": [
        {
          "output_type": "stream",
          "name": "stdout",
          "text": [
            "0.891\n"
          ]
        }
      ],
      "source": [
        "print(calculate_accuracy(clf,X_test,y_test))"
      ]
    },
    {
      "cell_type": "code",
      "execution_count": 15,
      "metadata": {
        "id": "pXRHPbuIXO_3"
      },
      "outputs": [],
      "source": [
        "def get_class_report(clf, X_test, y_test):\n",
        "    \"\"\"\n",
        "    Generates a classification report for the given test data.\n",
        "\n",
        "    Parameters:\n",
        "        clf: Trained RandomForestClassifier model.\n",
        "        X_test (numpy array): Test data (features).\n",
        "        y_test (numpy array): Test labels.\n",
        "\n",
        "    Returns:\n",
        "        str: Classification report as a string.\n",
        "    \"\"\"\n",
        "    # Get the predicted labels for the test set\n",
        "    y_pred = clf.predict(X_test)\n",
        "\n",
        "    # Generate the classification report\n",
        "    report = classification_report(y_test, y_pred)\n",
        "    return report"
      ]
    },
    {
      "cell_type": "code",
      "execution_count": 16,
      "metadata": {
        "colab": {
          "base_uri": "https://localhost:8080/"
        },
        "id": "bXIWSbDoXO_3",
        "outputId": "8bae003e-2573-4bf9-dc42-4c70fdc15a60"
      },
      "outputs": [
        {
          "output_type": "stream",
          "name": "stdout",
          "text": [
            "              precision    recall  f1-score   support\n",
            "\n",
            "           0       0.94      0.99      0.97        85\n",
            "           1       0.98      0.98      0.98       126\n",
            "           2       0.88      0.90      0.89       116\n",
            "           3       0.84      0.83      0.84       107\n",
            "           4       0.86      0.90      0.88       110\n",
            "           5       0.86      0.85      0.86        87\n",
            "           6       0.91      0.93      0.92        87\n",
            "           7       0.88      0.85      0.87        99\n",
            "           8       0.93      0.78      0.85        89\n",
            "           9       0.81      0.88      0.85        94\n",
            "\n",
            "    accuracy                           0.89      1000\n",
            "   macro avg       0.89      0.89      0.89      1000\n",
            "weighted avg       0.89      0.89      0.89      1000\n",
            "\n"
          ]
        }
      ],
      "source": [
        "print(get_class_report(clf,X_test,y_test))"
      ]
    },
    {
      "cell_type": "markdown",
      "metadata": {
        "id": "N2vfAvrAXO_4"
      },
      "source": [
        "## Plotting the results\n"
      ]
    },
    {
      "cell_type": "code",
      "execution_count": 22,
      "metadata": {
        "colab": {
          "base_uri": "https://localhost:8080/",
          "height": 448
        },
        "id": "7vfiOlw9XO_4",
        "outputId": "3e622778-2caf-44a9-f59c-0f7d2adfa6a7"
      },
      "outputs": [
        {
          "output_type": "stream",
          "name": "stdout",
          "text": [
            "Predicted Label:  7\n"
          ]
        },
        {
          "output_type": "display_data",
          "data": {
            "text/plain": [
              "<Figure size 640x480 with 1 Axes>"
            ],
            "image/png": "[encoded data removed]"
          },
          "metadata": {}
        }
      ],
      "source": [
        "preds = clf.predict(X_test)\n",
        "\n",
        "image_index = 60\n",
        " ## Change me to see other predictions\n",
        "\n",
        "print(\"Predicted Label: \",preds[image_index])\n",
        "plt.imshow(X_test[image_index].reshape((28, 28)), cmap='gray')\n",
        "plt.show()"
      ]
    }
  ],
  "metadata": {
    "kernelspec": {
      "display_name": "Python 3 (ipykernel)",
      "language": "python",
      "name": "python3"
    },
    "language_info": {
      "codemirror_mode": {
        "name": "ipython",
        "version": 3
      },
      "file_extension": ".py",
      "mimetype": "text/x-python",
      "name": "python",
      "nbconvert_exporter": "python",
      "pygments_lexer": "ipython3",
      "version": "3.11.4"
    },
    "colab": {
      "provenance": [],
      "include_colab_link": true
    }
  },
  "nbformat": 4,
  "nbformat_minor": 0
}